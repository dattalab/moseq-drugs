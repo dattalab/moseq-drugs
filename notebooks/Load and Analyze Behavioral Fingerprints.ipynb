{
 "cells": [
  {
   "cell_type": "code",
   "execution_count": null,
   "metadata": {},
   "outputs": [],
   "source": [
    "# TODO:\n",
    "# - How are F1s aggregated?"
   ]
  },
  {
   "cell_type": "code",
   "execution_count": 34,
   "metadata": {},
   "outputs": [
    {
     "name": "stdout",
     "output_type": "stream",
     "text": [
      "Populating the interactive namespace from numpy and matplotlib\n"
     ]
    }
   ],
   "source": [
    "%pylab inline\n",
    "from collections import OrderedDict\n",
    "import pickle\n",
    "import numpy as np\n",
    "import seaborn as sns\n",
    "\n",
    "from sklearn.linear_model import LogisticRegression\n",
    "from sklearn.model_selection import StratifiedShuffleSplit\n",
    "from sklearn.metrics import f1_score\n",
    "from scipy.spatial.distance import pdist,squareform\n",
    "\n",
    "import warnings\n",
    "warnings.filterwarnings('ignore') "
   ]
  },
  {
   "cell_type": "code",
   "execution_count": 26,
   "metadata": {},
   "outputs": [],
   "source": [
    "filename = '/Users/alexbw/Downloads/fingerprints.pkl'"
   ]
  },
  {
   "cell_type": "code",
   "execution_count": 27,
   "metadata": {},
   "outputs": [],
   "source": [
    "with open(filename, 'rb') as f:\n",
    "    fingerprints, fingerprint_labels = pickle.load(f, encoding='latin1')"
   ]
  },
  {
   "cell_type": "code",
   "execution_count": 28,
   "metadata": {},
   "outputs": [],
   "source": [
    "def train_linear_classifier(features, labels, C=100.0, n_fold=1, test_size=0.2, seed=0):\n",
    "\n",
    "    splits = StratifiedShuffleSplit(n_splits=1, test_size=test_size, random_state=seed)\\\n",
    "               .split(features, labels)\n",
    "    train_ind, test_ind = next(splits)\n",
    "    model = LogisticRegression(penalty='l2', C=C, solver='lbfgs', multi_class='ovr', class_weight='balanced')\n",
    "    model.fit(features[train_ind], labels[train_ind])\n",
    "    pred_labels = model.predict(features[test_ind])\n",
    "    scores = model.predict_proba(features[test_ind])\n",
    "    true_labels = labels[test_ind]\n",
    "\n",
    "    return true_labels, pred_labels, scores"
   ]
  },
  {
   "cell_type": "markdown",
   "metadata": {},
   "source": [
    "## Choose a label level"
   ]
  },
  {
   "cell_type": "code",
   "execution_count": 29,
   "metadata": {},
   "outputs": [],
   "source": [
    "label_level = 'drug' # also valid: class, dose\n",
    "y = fingerprint_labels[f'y_{label_level}']\n",
    "unique_labels = fingerprint_labels[f'unique_{label_level}']\n",
    "n_labels = len(unique_labels)"
   ]
  },
  {
   "cell_type": "markdown",
   "metadata": {},
   "source": [
    "## Train a Classifier on MoSeq, Scalars and Shuffled Data"
   ]
  },
  {
   "cell_type": "markdown",
   "metadata": {},
   "source": [
    "## Calculate F1 scores and Precision-Recall Curves"
   ]
  },
  {
   "cell_type": "code",
   "execution_count": 11,
   "metadata": {},
   "outputs": [
    {
     "name": "stdout",
     "output_type": "stream",
     "text": [
      "moseq: 0.59 ± 0.04\n",
      "scalars: 0.40 ± 0.05\n",
      "shuffled_moseq: 0.06 ± 0.02\n"
     ]
    }
   ],
   "source": [
    "y = fingerprint_labels['y_drug']\n",
    "for feature_type in ['moseq', 'scalars', 'shuffled_moseq']:\n",
    "\n",
    "    x = fingerprints[feature_type]\n",
    "        \n",
    "    f1s = []\n",
    "    for iseed in range(100):\n",
    "        true_labels, pred_labels, scores = train_linear_classifier(x, y, seed=iseed)\n",
    "        mean_f1 = np.mean([f1_score(true_labels==i, pred_labels==i) for i in range(n_labels)])\n",
    "        f1s.append(mean_f1)\n",
    "\n",
    "    print(f'{feature_type}: {np.mean(f1s):.2f} ± {np.std(f1s):.2f}')"
   ]
  },
  {
   "cell_type": "markdown",
   "metadata": {},
   "source": [
    "## Cosine Distances Between Treatments"
   ]
  },
  {
   "cell_type": "code",
   "execution_count": 36,
   "metadata": {},
   "outputs": [],
   "source": [
    "cosine = lambda data: squareform(pdist(data,metric='cosine'))\n",
    "\n",
    "def sim_matrix_of_avgs(data,labels):\n",
    "    # Get the per-label average of the data\n",
    "    unique_labels = np.unique(labels)\n",
    "    out = np.zeros((len(unique_labels),len(unique_labels)),dtype='float32')\n",
    "    means = np.zeros((len(unique_labels),data.shape[1]))\n",
    "    for ilabel in unique_labels:\n",
    "        means[ilabel] = np.nanmean(data[labels==ilabel],0)\n",
    "    return cosine(means)\n",
    "\n",
    "def show_cosine(data):\n",
    "    return imshow(sim_matrix_of_avgs(data, fingerprint_labels['y_drug']),\n",
    "                  cmap='viridis_r',\n",
    "                  clim=(0,1.0),\n",
    "                  interpolation=None); axis('square')\n",
    "\n",
    "\n",
    "short_name_map = OrderedDict([\n",
    "    ('alprazolam','ALPR'),\n",
    "    ('atomoxetine','ATOM'),\n",
    "    ('bupropion','BUPR'),\n",
    "    ('chlorpromazine','CHLO'),\n",
    "    ('citalopram','CITA'),\n",
    "    ('clozapine','CLOZ'),\n",
    "    ('control','CTRL'),\n",
    "    ('diazepam','DIAZ'),\n",
    "    ('fluoxetine','FLUO'),\n",
    "    ('haloperidol','HALO'),\n",
    "    ('methamphetamine','METH'),\n",
    "    ('methylphenidate','MTPH'),\n",
    "    ('modafinil','MODA'),\n",
    "    ('phenelzine','PHEN'),\n",
    "    ('risperidone','RISP'),\n",
    "    ('venlafaxine','VENL'),\n",
    "])\n",
    "short_names = [short_name_map[u] for u in unique_labels]"
   ]
  },
  {
   "cell_type": "code",
   "execution_count": 37,
   "metadata": {},
   "outputs": [
    {
     "data": {
      "image/png": "[encoded data removed]",
      "text/plain": [
       "<Figure size 720x288 with 3 Axes>"
      ]
     },
     "metadata": {
      "needs_background": "light"
     },
     "output_type": "display_data"
    }
   ],
   "source": [
    "figure(figsize=(10,4))\n",
    "gs = GridSpec(1,3, width_ratios=[10,10,0.3])\n",
    "\n",
    "ax = subplot(gs[0])\n",
    "cax = show_cosine(fingerprints['scalars'])\n",
    "title('Scalars', y=1.1)\n",
    "xticks(range(len(short_names)), short_names, rotation=90)\n",
    "yticks(range(len(short_names)), short_names)\n",
    "sns.despine()\n",
    "\n",
    "ax = subplot(gs[1])\n",
    "show_cosine(fingerprints['moseq'])\n",
    "title('MoSeq',y=1.1)\n",
    "xticks(range(len(short_names)), short_names, rotation=90)\n",
    "yticks(range(len(short_names)), short_names)\n",
    "sns.despine()\n",
    "\n",
    "ax = subplot(gs[2])\n",
    "colorbar(cax, cax=ax);"
   ]
  },
  {
   "cell_type": "markdown",
   "metadata": {},
   "source": [
    "## LDA Visualization of Mice Across Treatments"
   ]
  },
  {
   "cell_type": "code",
   "execution_count": null,
   "metadata": {},
   "outputs": [],
   "source": []
  },
  {
   "cell_type": "markdown",
   "metadata": {},
   "source": [
    "## Syllable Importance Calculation"
   ]
  },
  {
   "cell_type": "code",
   "execution_count": null,
   "metadata": {},
   "outputs": [],
   "source": []
  }
 ],
 "metadata": {
  "kernelspec": {
   "display_name": "Python 3",
   "language": "python",
   "name": "python3"
  },
  "language_info": {
   "codemirror_mode": {
    "name": "ipython",
    "version": 3
   },
   "file_extension": ".py",
   "mimetype": "text/x-python",
   "name": "python",
   "nbconvert_exporter": "python",
   "pygments_lexer": "ipython3",
   "version": "3.7.3"
  }
 },
 "nbformat": 4,
 "nbformat_minor": 4
}
