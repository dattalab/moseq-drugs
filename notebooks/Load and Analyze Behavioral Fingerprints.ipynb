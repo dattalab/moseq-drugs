{
 "cells": [
  {
   "cell_type": "code",
   "execution_count": 16,
   "metadata": {},
   "outputs": [],
   "source": [
    "import pickle\n",
    "import numpy as np\n",
    "\n",
    "from sklearn.linear_model import LogisticRegression\n",
    "from sklearn.model_selection import StratifiedShuffleSplit"
   ]
  },
  {
   "cell_type": "code",
   "execution_count": 10,
   "metadata": {},
   "outputs": [],
   "source": [
    "filename = '/Users/alexbw/Downloads/fingerprints.pkl'\n",
    "with open(filename, 'rb') as f:\n",
    "    fingerprints, fingerprint_labels = pickle.load(f)"
   ]
  },
  {
   "cell_type": "code",
   "execution_count": 66,
   "metadata": {},
   "outputs": [],
   "source": [
    "def train_linear_classifier(features, labels, C=1.0, n_fold=1, test_size=0.2):\n",
    "\n",
    "    splits = StratifiedShuffleSplit(n_splits=1, test_size=test_size, random_state=0)\\\n",
    "               .split(features, labels)\n",
    "    train_ind, test_ind = next(splits)\n",
    "    model = LogisticRegression(penalty='l2', C=C, class_weight='balanced')\n",
    "    model.fit(features[train_ind], labels[train_ind])\n",
    "    pred_labels = model.predict(features[test_ind])\n",
    "    scores = model.predict_proba(features[test_ind])\n",
    "    true_labels = labels[test_ind]\n",
    "\n",
    "    return true_labels, pred_labels, scores"
   ]
  },
  {
   "cell_type": "markdown",
   "metadata": {},
   "source": [
    "## Choose a label level"
   ]
  },
  {
   "cell_type": "code",
   "execution_count": 70,
   "metadata": {},
   "outputs": [
    {
     "data": {
      "text/plain": [
       "odict_keys(['y_drug', 'y_dose', 'y_class', 'mouse_names', 'drug', 'dose', 'drug_class', 'drug_and_dose', 'highlow_dose_mapping', 'highorlow', 'unique_dose', 'unique_class', 'unique_drug', 'drug_mapping', 'class_mapping', 'dose_mapping'])"
      ]
     },
     "execution_count": 70,
     "metadata": {},
     "output_type": "execute_result"
    }
   ],
   "source": [
    "fingerprint_labels['unique_']"
   ]
  },
  {
   "cell_type": "code",
   "execution_count": 72,
   "metadata": {},
   "outputs": [],
   "source": [
    "label_level = 'drug' # also valid: class, dose\n",
    "y = fingerprint_labels[f'y_{label_level}']\n",
    "unique_labels = fingerprint_labels[f'unique_{label_level}']"
   ]
  },
  {
   "cell_type": "markdown",
   "metadata": {},
   "source": [
    "## Train a Classifier on MoSeq, Scalars and Shuffled Data"
   ]
  },
  {
   "cell_type": "code",
   "execution_count": 61,
   "metadata": {},
   "outputs": [],
   "source": [
    "x = fingerprints['moseq']\n",
    "y = fingerprint_labels['y_drug']"
   ]
  },
  {
   "cell_type": "code",
   "execution_count": 67,
   "metadata": {},
   "outputs": [],
   "source": [
    "true_labels, pred_labels, scores = train_linear_classifier(x, y)"
   ]
  },
  {
   "cell_type": "markdown",
   "metadata": {},
   "source": [
    "## Calculate F1 scores and Precision-Recall Curves"
   ]
  },
  {
   "cell_type": "code",
   "execution_count": null,
   "metadata": {},
   "outputs": [],
   "source": []
  },
  {
   "cell_type": "markdown",
   "metadata": {},
   "source": [
    "## Cosine Distances Between Treatments"
   ]
  },
  {
   "cell_type": "code",
   "execution_count": null,
   "metadata": {},
   "outputs": [],
   "source": []
  },
  {
   "cell_type": "markdown",
   "metadata": {},
   "source": [
    "## LDA Visualization of Mice Across Treatments"
   ]
  },
  {
   "cell_type": "code",
   "execution_count": null,
   "metadata": {},
   "outputs": [],
   "source": []
  },
  {
   "cell_type": "markdown",
   "metadata": {},
   "source": [
    "## Syllable Importance Calculation"
   ]
  },
  {
   "cell_type": "code",
   "execution_count": null,
   "metadata": {},
   "outputs": [],
   "source": []
  }
 ],
 "metadata": {
  "kernelspec": {
   "display_name": "Python 3",
   "language": "python",
   "name": "python3"
  },
  "language_info": {
   "codemirror_mode": {
    "name": "ipython",
    "version": 3
   },
   "file_extension": ".py",
   "mimetype": "text/x-python",
   "name": "python",
   "nbconvert_exporter": "python",
   "pygments_lexer": "ipython3",
   "version": "3.8.4"
  }
 },
 "nbformat": 4,
 "nbformat_minor": 4
}
