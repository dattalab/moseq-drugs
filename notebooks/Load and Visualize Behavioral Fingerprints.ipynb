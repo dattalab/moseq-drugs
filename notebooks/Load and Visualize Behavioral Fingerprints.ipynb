{
 "cells": [
  {
   "cell_type": "code",
   "execution_count": 2,
   "metadata": {},
   "outputs": [
    {
     "name": "stdout",
     "output_type": "stream",
     "text": [
      "Populating the interactive namespace from numpy and matplotlib\n"
     ]
    }
   ],
   "source": [
    "# Imports\n",
    "%pylab inline\n",
    "import pickle"
   ]
  },
  {
   "cell_type": "code",
   "execution_count": 3,
   "metadata": {},
   "outputs": [],
   "source": [
    "# Path to file\n",
    "filename = '/Users/alexbw/Downloads/fingerprints.pkl'"
   ]
  },
  {
   "cell_type": "code",
   "execution_count": 4,
   "metadata": {},
   "outputs": [],
   "source": [
    "# Load the fingerprints\n",
    "with open(filename, 'rb') as f:\n",
    "    fingerprints, fingerprint_labels = pickle.load(f)"
   ]
  },
  {
   "cell_type": "code",
   "execution_count": null,
   "metadata": {},
   "outputs": [],
   "source": [
    "header_fontsize=25\n",
    "axis_scale=0.8\n",
    "\n",
    "figure(figsize=(20,18))\n",
    "\n",
    "\n",
    "gs = GridSpec(1, 9, wspace=0.1, width_ratios=[1,7,1,1,8,8,8,8,8])\n",
    "\n",
    "subplot(gs[0])\n",
    "tick_locs = np.r_[0,np.argwhere(np.diff(y_class)!=0).ravel(),len(y_class)]\n",
    "for t in tick_locs:\n",
    "    hlines(t,0,1,color='k',linewidth=1)\n",
    "vlines(0,0,tick_locs[-1],linewidth=1)\n",
    "ylim(-1,len(y_class)+1)\n",
    "gca().invert_yaxis()\n",
    "xlim(0,1)\n",
    "yticks(yt_class, np.array(drug_class)[yt_class], )\n",
    "xticks([])\n",
    "gca().spines['top'].set_visible(False)\n",
    "gca().spines['right'].set_visible(False)\n",
    "gca().spines['bottom'].set_visible(False)\n",
    "gca().spines['left'].set_visible(False)\n",
    "gca().yaxis.set_ticks_position('none') \n",
    "\n",
    "title('Class',fontsize=header_fontsize*axis_scale, y=1.02)\n",
    "\n",
    "subplot(gs[1])\n",
    "title('Drug',fontsize=header_fontsize*axis_scale, y=1.02)\n",
    "axis('off')\n",
    "\n",
    "subplot(gs[2])\n",
    "imshow(y_drug[:,None], interpolation='none', cmap='Set2')\n",
    "axis('tight')\n",
    "yticks(yt_drug, du.drugs[:-1])\n",
    "xticks([])\n",
    "\n",
    "subplot(gs[3])\n",
    "imshow(y_highorlow[:,None], interpolation='none', cmap='viridis')\n",
    "axis('tight')\n",
    "xticks([]); yticks([]);\n",
    "title('Dose',fontsize=header_fontsize*axis_scale, y=1.02)\n",
    "\n",
    "for i,(key,data,scalefn,clim,units) in enumerate([\n",
    "                         (\"Position\", position, np.sqrt,(0,0.3),\"Normalized Distance\\nFrom Center\"),\n",
    "                         (\"Speed\", speed,np.sqrt, (0,0.3), \"Speed\\n(mm/s)\"),\n",
    "                         (\"Length & Height\", simplepose, np.sqrt, (0,0.3), \"Length & Height\\n(mm)\"),\n",
    "                         (\"MoSeq\", moseq, np.sqrt, (0,0.3), \"Syllable ID\"),\n",
    "                        ]):\n",
    "    \n",
    "    # Normalize\n",
    "    data = (data.T/data.sum(1)).T\n",
    "\n",
    "    subplot(gs[i+4])\n",
    "    ax1 = imshow(scalefn(data), clim=clim, interpolation='nearest')\n",
    "    _xticks = np.floor(ticks[key][::25]/10.0)*10.0\n",
    "    if key == 'Position':\n",
    "        ax1.axes.set_xticks([0,36, 72])\n",
    "        ax1.axes.set_xticklabels([0,0.4,0.8])\n",
    "    else:\n",
    "        ax1.axes.set_xticks(np.linspace(0,data.shape[1],len(_xticks)))\n",
    "        ax1.axes.set_xticklabels(map(int,_xticks))\n",
    "    yticks([])\n",
    "    axis('tight')\n",
    "    xlabel(units)\n",
    "    title(key,y=1.02,fontsize=header_fontsize)\n",
    "    if key == 'Length & Height':\n",
    "        vlines(45,0,len(data),linewidth=1,color='w')\n",
    "        xticks([0,30,45,89])\n",
    "    elif key == \"MoSeq\":\n",
    "        xlim(0,85)\n",
    "        xticks([])\n",
    "\n",
    "cbaxes = add_subplot_axes(gca(), [0,-0.06,1.0,0.02])\n",
    "cb = plt.colorbar(ax1, cax = cbaxes, orientation='horizontal')\n",
    "cticks = np.linspace(clim[0],clim[1],4)\n",
    "cb.set_ticks(cticks)\n",
    "cb.set_ticklabels(100*cticks**2.0)\n",
    "cb.set_label(\"Percent usage\")\n",
    "sns.despine(ax=ax1.axes)\n"
   ]
  }
 ],
 "metadata": {
  "kernelspec": {
   "display_name": "Python 3",
   "language": "python",
   "name": "python3"
  },
  "language_info": {
   "codemirror_mode": {
    "name": "ipython",
    "version": 3
   },
   "file_extension": ".py",
   "mimetype": "text/x-python",
   "name": "python",
   "nbconvert_exporter": "python",
   "pygments_lexer": "ipython3",
   "version": "3.8.4"
  }
 },
 "nbformat": 4,
 "nbformat_minor": 4
}
