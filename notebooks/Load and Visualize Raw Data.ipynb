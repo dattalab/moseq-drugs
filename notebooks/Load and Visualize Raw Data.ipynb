{
 "cells": [
  {
   "cell_type": "code",
   "execution_count": null,
   "metadata": {},
   "outputs": [],
   "source": [
    "# Imports\n",
    "%pylab inline\n",
    "import pickle"
   ]
  },
  {
   "cell_type": "code",
   "execution_count": null,
   "metadata": {},
   "outputs": [],
   "source": [
    "# Path to file\n",
    "filename = '/Users/alexbw/Downloads/dataset.pkl'"
   ]
  },
  {
   "cell_type": "code",
   "execution_count": null,
   "metadata": {},
   "outputs": [],
   "source": [
    "# Load the dataset\n",
    "with open('/data/efs/drugs/alldoses/dataset.pkl', 'rb') as f:\n",
    "    dataset = pickle.load(f)\n",
    "    \n",
    "# Load the syllable labels\n",
    "with open('/data/efs/drugs/alldoses/syllablelabels.pkl', 'rb') as f:\n",
    "    syllable_labels = pickle.load(f)\n",
    "# syllable_labels = analysis.relabel_by_usage(syllable_labels)\n",
    "\n",
    "# Load the labels into our dataset array\n",
    "split_points = np.cumsum([len(v['data']) for v in dataset.values()])[:-1]\n",
    "split_syllable_labels = np.array_split(syllable_labels,split_points)\n",
    "for mouse_name,_syllable_labels in zip(dataset.keys(),split_syllable_labels):\n",
    "    dataset[mouse_name]['syllable_labels'] = _syllable_labels"
   ]
  },
  {
   "cell_type": "code",
   "execution_count": null,
   "metadata": {},
   "outputs": [],
   "source": [
    "# Test the syllable usages"
   ]
  },
  {
   "cell_type": "code",
   "execution_count": null,
   "metadata": {},
   "outputs": [],
   "source": [
    "# Show some raw frames"
   ]
  },
  {
   "cell_type": "code",
   "execution_count": null,
   "metadata": {},
   "outputs": [],
   "source": [
    "# Make Figure 1\n",
    "target_mouse = 'C57-6_methylphenidate_20mgkg_9-10-15'\n",
    "x = np.arange(21000,24000)\n",
    "df = [d for k,d in dataset.items() if k == target_mouse][0]"
   ]
  },
  {
   "cell_type": "code",
   "execution_count": null,
   "metadata": {},
   "outputs": [],
   "source": [
    "heightfn = lambda df, ind: np.histogram(df['height'][ind], np.linspace(0,90,160))[0]\n",
    "lengthfn = lambda df, ind: np.histogram(df['length'][ind], np.linspace(0,90,160))[0]\n",
    "velocityfn = lambda df, ind: np.histogram(np.abs(30.0*df['velocity'][ind]), np.linspace(0,450,160))[0]\n",
    "positionfn = lambda df, ind: np.histogram(df['dist_to_center'][ind], np.linspace(0,1,160))[0]"
   ]
  },
  {
   "cell_type": "code",
   "execution_count": null,
   "metadata": {},
   "outputs": [],
   "source": [
    "figure(figsize=(20,16))\n",
    "gs = GridSpec(6,2,width_ratios=[4,1], height_ratios=[1,1,1,1,1,0.25], hspace=0.3, wspace=0.02)\n",
    "\n",
    "subplot(gs[0,0])\n",
    "plot(x/30.0,np.abs(30.*df['velocity'][x]), 'r')\n",
    "ylabel(\"Speed\\n(mm/s)\")\n",
    "yticks([0,100,200,300,400])\n",
    "xticks([])\n",
    "axis('tight')\n",
    "ylim(0,450)\n",
    "\n",
    "\n",
    "subplot(gs[0,1])\n",
    "y = velocityfn(df,x).astype('float32')\n",
    "y /= float(y.sum())\n",
    "plot(y, range(len(y)), 'r', linewidth=2)\n",
    "axis('off')\n",
    "xlim(-0.01,0.05)\n",
    "\n",
    "\n",
    "subplot(gs[1,0])\n",
    "plot(x/30.0,df['height'][x], 'g')\n",
    "sns.despine(offset=10)\n",
    "xticks([])\n",
    "ylabel(\"Height\\n(mm)\")\n",
    "yticks([0,20,40,60,80])\n",
    "axis('tight')\n",
    "ylim(0,90)\n",
    "\n",
    "subplot(gs[1,1])\n",
    "y = heightfn(df,x).astype('float32')\n",
    "y /= float(y.sum())\n",
    "plot(y, range(len(y)), 'g', linewidth=2)\n",
    "axis('off')\n",
    "xlim(-0.01,0.1)\n",
    "\n",
    "\n",
    "subplot(gs[2,0])\n",
    "plot(x/30.0,df['length'][x], 'b')\n",
    "sns.despine(offset=10)\n",
    "ylabel(\"Length\\n(mm)\")\n",
    "yticks([0,40,80,120])\n",
    "axis('tight')\n",
    "xticks([])\n",
    "ylim(0,120)\n",
    "\n",
    "subplot(gs[2,1])\n",
    "y = lengthfn(df,x).astype('float32')\n",
    "y /= float(y.sum())\n",
    "plot(y, range(len(y)), 'b', linewidth=2)\n",
    "xticks([])\n",
    "axis('off')\n",
    "xlim(-0.01,0.1)\n",
    "\n",
    "subplot(gs[3,0])\n",
    "plot(x/30.0,df['dist_to_center'][x], 'm')\n",
    "sns.despine(offset=10)\n",
    "ylabel(\"Distance to\\n Center (a.u.)\")\n",
    "axis('tight')\n",
    "xticks([])\n",
    "yticks([0.5, 1.0])\n",
    "ylim(0.4,1.1)\n",
    "\n",
    "subplot(gs[3,1])\n",
    "y = positionfn(df,x).astype('float32')\n",
    "y /= float(y.sum())\n",
    "plot(y, range(len(y)), 'm', linewidth=2)\n",
    "axis('tight')\n",
    "axis('off')\n",
    "xlim(-0.01,0.1)\n",
    "\n",
    "\n",
    "subplot(gs[4,0])\n",
    "scale = 3\n",
    "for i in range(10):\n",
    "    y = scale * df['data'][x,i] / df['data'][x,i].max()\n",
    "    plot(x / 30.0, y + i*scale, 'k', linewidth=1)\n",
    "sns.despine(offset=10, bottom=True)\n",
    "ylabel(\"PCs\\n(a.u.)\")\n",
    "axis('tight')\n",
    "yticks([])\n",
    "xticks([])\n",
    "\n",
    "subplot(gs[5,0])\n",
    "imshow(df['syllable_labels'][None,x], interpolation='none', cmap='Paired')\n",
    "axis('tight')\n",
    "axis('off')"
   ]
  }
 ],
 "metadata": {
  "kernelspec": {
   "display_name": "Python 3",
   "language": "python",
   "name": "python3"
  },
  "language_info": {
   "codemirror_mode": {
    "name": "ipython",
    "version": 3
   },
   "file_extension": ".py",
   "mimetype": "text/x-python",
   "name": "python",
   "nbconvert_exporter": "python",
   "pygments_lexer": "ipython3",
   "version": "3.8.4"
  }
 },
 "nbformat": 4,
 "nbformat_minor": 4
}
